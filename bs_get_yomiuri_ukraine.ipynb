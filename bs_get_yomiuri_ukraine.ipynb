{
 "cells": [
  {
   "cell_type": "code",
   "execution_count": 163,
   "metadata": {},
   "outputs": [],
   "source": [
    "import requests\n",
    "from bs4 import BeautifulSoup"
   ]
  },
  {
   "cell_type": "code",
   "execution_count": 164,
   "metadata": {},
   "outputs": [],
   "source": [
    "url = 'https://www.yomiuri.co.jp/feature/titlelist/ukraine_news/'"
   ]
  },
  {
   "cell_type": "code",
   "execution_count": 165,
   "metadata": {},
   "outputs": [],
   "source": [
    "res = requests.get(url)"
   ]
  },
  {
   "cell_type": "code",
   "execution_count": 166,
   "metadata": {},
   "outputs": [
    {
     "data": {
      "text/plain": [
       "200"
      ]
     },
     "execution_count": 166,
     "metadata": {},
     "output_type": "execute_result"
    }
   ],
   "source": [
    "res.status_code"
   ]
  },
  {
   "cell_type": "code",
   "execution_count": 167,
   "metadata": {},
   "outputs": [],
   "source": [
    "soup = BeautifulSoup(res.text, \"html.parser\")"
   ]
  },
  {
   "cell_type": "code",
   "execution_count": 168,
   "metadata": {},
   "outputs": [],
   "source": [
    "elems = soup.select(\"body > div.layout-contents > div.layout-contents__main\")"
   ]
  },
  {
   "cell_type": "code",
   "execution_count": 169,
   "metadata": {},
   "outputs": [],
   "source": [
    "h3_elems = elems[0].find_all(\"h3\", class_=\"c-list-title\")"
   ]
  },
  {
   "cell_type": "code",
   "execution_count": 170,
   "metadata": {},
   "outputs": [],
   "source": [
    "h3_texts = [h3.get_text(strip=True) for h3 in h3_elems]"
   ]
  },
  {
   "cell_type": "code",
   "execution_count": 171,
   "metadata": {},
   "outputs": [],
   "source": [
    "a_texts = []\n",
    "a_urls = []"
   ]
  },
  {
   "cell_type": "code",
   "execution_count": 172,
   "metadata": {},
   "outputs": [],
   "source": [
    "for h3 in h3_elems:\n",
    "    a_tag = h3.find(\"a\")\n",
    "    if a_tag and a_tag.get_text(strip=True):\n",
    "        a_texts.append(a_tag.get_text(strip=True))\n",
    "        a_urls.append(a_tag.get(\"href\"))"
   ]
  },
  {
   "cell_type": "code",
   "execution_count": 161,
   "metadata": {},
   "outputs": [
    {
     "name": "stdout",
     "output_type": "stream",
     "text": [
      "['中国の習近平国家主席とロシアのプーチン大統領が会談…対米意識し結束確認「歴史上、最良の時期」', 'ＮＡＴＯ文民高官\\u3000キーウ駐在検討\\u3000ウクライナ軍支援…米報道', '中露関係「歴史上最良」\\u3000首脳会談でプーチン氏', 'ロシアに融和的なハンガリー首相、キーウ訪れ露との一時休戦を提案…ゼレンスキー氏は無反応', '中露\\u3000ガス価格交渉難航\\u3000パイプライン計画\\u3000首脳会談\\u3000進展に注目', '円安是正「為替相場の過度な変動、これからも必要があれば対応」…神田真人財務官', 'ロシア２００カイリ内での３年ぶり試験操業へ、根室・花咲港から操業船出港…北洋サケ・マス漁の形残す「最後の砦」', 'エネルギー危機の対処議論\\u3000ウクライナ・中東影響懸念', 'ロシア寄りのハンガリーがＥＵ議長国に…政策議論で主導的役割、欧州議会は信頼性を疑問視', 'ＮＡＴＯ事務総長、トランプ氏が大統領再任でも「ウクライナ軍事支援続ける」…米後退への備えも示唆', '自衛隊創設７０年、吉田圭秀・統合幕僚長「武力攻撃を起こさせない」「国際秩序を維持する力に」', '「我が国周辺でもウクライナ同様の事態が起きる可能性は否定できない」…吉田統幕長インタビュー要旨', '国連安保理、ロシアと北朝鮮の新条約で緊急会合…「重大な懸念」との声相次ぐ', '［米大統領選２０２４］外交・経済\\u3000批判合戦\\u3000ＴＶ討論', 'ＥＵ、ウクライナと安保協定\\u3000ゼレンスキー氏\\u3000首脳会議で署名', 'ロシア軍と捕虜交換、兵士９０人がウクライナに帰還…アラブ首長国連邦が仲介', '米露国防相が１年３か月ぶりに電話会談…偶発的な武力衝突を回避する狙いか', 'ウクライナ加盟交渉開始\\u3000ＥＵ\\u3000ゼレンスキー氏歓迎', 'ロシアのショイグ前国防相とゲラシモフ参謀総長にＩＣＣが逮捕状…ウクライナの電力施設攻撃で', '露ミサイル攻撃\\u3000５人死亡…ウクライナ東部\\u3000４１人負傷', 'ＥＵ\\u3000露制裁決定\\u3000第１４弾', 'ロシア軍がハルキウ爆撃、４人死亡６０人以上負傷…ゼレンスキー氏がロシア内の空軍基地攻撃の必要性強調', 'ウクライナ軍がクリミアにミサイル攻撃、４人死亡１４０人超負傷…露は「兵器供与した」と米国批判', 'プーチン大統領、「核の３本柱」で「世界のパワーバランス維持」…軍士官学校の卒業生を前に演説', '「大切な人は突然\\u3000誰かが始めた争いで\\u3000夏の初めにいなくなった」…高３が沖縄戦追悼式で「平和の詩」']\n",
      "['/world/20240704-OYT1T50059/', '/world/20240704-OYT1T50035/', '/world/20240704-OYT1T50034/', '/world/20240703-OYT1T50030/', '/world/20240703-OYT1T50006/', '/economy/20240702-OYT1T50077/', '/economy/20240702-OYT1T50025/', '/economy/20240702-OYT1T50019/', '/world/20240701-OYT1T50128/', '/world/20240701-OYT1T50009/', '/national/20240629-OYT1T50220/', '/national/20240630-OYT1T50005/', '/world/20240629-OYT1T50087/', '/world/uspresident/20240629-OYT1T50035/', '/world/20240628-OYT1T50025/', '/world/20240626-OYT1T50064/', '/world/20240626-OYT1T50061/', '/world/20240626-OYT1T50028/', '/world/20240625-OYT1T50153/', '/world/20240625-OYT1T50059/', '/world/20240625-OYT1T50005/', '/world/20240624-OYT1T50143/', '/world/20240624-OYT1T50056/', '/world/20240623-OYT1T50077/', '/national/20240623-OYT1T50059/']\n"
     ]
    }
   ],
   "source": [
    "print(a_texts)\n",
    "print(a_urls)"
   ]
  },
  {
   "cell_type": "code",
   "execution_count": 174,
   "metadata": {},
   "outputs": [
    {
     "name": "stdout",
     "output_type": "stream",
     "text": [
      "中国の習近平国家主席とロシアのプーチン大統領が会談…対米意識し結束確認「歴史上、最良の時期」\n",
      "https://www.yomiuri.co.jp//world/20240704-OYT1T50059/\n",
      "\n",
      "ＮＡＴＯ文民高官　キーウ駐在検討　ウクライナ軍支援…米報道\n",
      "https://www.yomiuri.co.jp//world/20240704-OYT1T50035/\n",
      "\n",
      "中露関係「歴史上最良」　首脳会談でプーチン氏\n",
      "https://www.yomiuri.co.jp//world/20240704-OYT1T50034/\n",
      "\n",
      "ロシアに融和的なハンガリー首相、キーウ訪れ露との一時休戦を提案…ゼレンスキー氏は無反応\n",
      "https://www.yomiuri.co.jp//world/20240703-OYT1T50030/\n",
      "\n",
      "中露　ガス価格交渉難航　パイプライン計画　首脳会談　進展に注目\n",
      "https://www.yomiuri.co.jp//world/20240703-OYT1T50006/\n",
      "\n",
      "円安是正「為替相場の過度な変動、これからも必要があれば対応」…神田真人財務官\n",
      "https://www.yomiuri.co.jp//economy/20240702-OYT1T50077/\n",
      "\n",
      "ロシア２００カイリ内での３年ぶり試験操業へ、根室・花咲港から操業船出港…北洋サケ・マス漁の形残す「最後の砦」\n",
      "https://www.yomiuri.co.jp//economy/20240702-OYT1T50025/\n",
      "\n",
      "エネルギー危機の対処議論　ウクライナ・中東影響懸念\n",
      "https://www.yomiuri.co.jp//economy/20240702-OYT1T50019/\n",
      "\n",
      "ロシア寄りのハンガリーがＥＵ議長国に…政策議論で主導的役割、欧州議会は信頼性を疑問視\n",
      "https://www.yomiuri.co.jp//world/20240701-OYT1T50128/\n",
      "\n",
      "ＮＡＴＯ事務総長、トランプ氏が大統領再任でも「ウクライナ軍事支援続ける」…米後退への備えも示唆\n",
      "https://www.yomiuri.co.jp//world/20240701-OYT1T50009/\n",
      "\n",
      "自衛隊創設７０年、吉田圭秀・統合幕僚長「武力攻撃を起こさせない」「国際秩序を維持する力に」\n",
      "https://www.yomiuri.co.jp//national/20240629-OYT1T50220/\n",
      "\n",
      "「我が国周辺でもウクライナ同様の事態が起きる可能性は否定できない」…吉田統幕長インタビュー要旨\n",
      "https://www.yomiuri.co.jp//national/20240630-OYT1T50005/\n",
      "\n",
      "国連安保理、ロシアと北朝鮮の新条約で緊急会合…「重大な懸念」との声相次ぐ\n",
      "https://www.yomiuri.co.jp//world/20240629-OYT1T50087/\n",
      "\n",
      "［米大統領選２０２４］外交・経済　批判合戦　ＴＶ討論\n",
      "https://www.yomiuri.co.jp//world/uspresident/20240629-OYT1T50035/\n",
      "\n",
      "ＥＵ、ウクライナと安保協定　ゼレンスキー氏　首脳会議で署名\n",
      "https://www.yomiuri.co.jp//world/20240628-OYT1T50025/\n",
      "\n",
      "ロシア軍と捕虜交換、兵士９０人がウクライナに帰還…アラブ首長国連邦が仲介\n",
      "https://www.yomiuri.co.jp//world/20240626-OYT1T50064/\n",
      "\n",
      "米露国防相が１年３か月ぶりに電話会談…偶発的な武力衝突を回避する狙いか\n",
      "https://www.yomiuri.co.jp//world/20240626-OYT1T50061/\n",
      "\n",
      "ウクライナ加盟交渉開始　ＥＵ　ゼレンスキー氏歓迎\n",
      "https://www.yomiuri.co.jp//world/20240626-OYT1T50028/\n",
      "\n",
      "ロシアのショイグ前国防相とゲラシモフ参謀総長にＩＣＣが逮捕状…ウクライナの電力施設攻撃で\n",
      "https://www.yomiuri.co.jp//world/20240625-OYT1T50153/\n",
      "\n",
      "露ミサイル攻撃　５人死亡…ウクライナ東部　４１人負傷\n",
      "https://www.yomiuri.co.jp//world/20240625-OYT1T50059/\n",
      "\n",
      "ＥＵ　露制裁決定　第１４弾\n",
      "https://www.yomiuri.co.jp//world/20240625-OYT1T50005/\n",
      "\n",
      "ロシア軍がハルキウ爆撃、４人死亡６０人以上負傷…ゼレンスキー氏がロシア内の空軍基地攻撃の必要性強調\n",
      "https://www.yomiuri.co.jp//world/20240624-OYT1T50143/\n",
      "\n",
      "ウクライナ軍がクリミアにミサイル攻撃、４人死亡１４０人超負傷…露は「兵器供与した」と米国批判\n",
      "https://www.yomiuri.co.jp//world/20240624-OYT1T50056/\n",
      "\n",
      "プーチン大統領、「核の３本柱」で「世界のパワーバランス維持」…軍士官学校の卒業生を前に演説\n",
      "https://www.yomiuri.co.jp//world/20240623-OYT1T50077/\n",
      "\n",
      "「大切な人は突然　誰かが始めた争いで　夏の初めにいなくなった」…高３が沖縄戦追悼式で「平和の詩」\n",
      "https://www.yomiuri.co.jp//national/20240623-OYT1T50059/\n",
      "\n"
     ]
    }
   ],
   "source": [
    "for title, url in zip(a_texts, a_urls):\n",
    "    print(title)\n",
    "    print(\"https://www.yomiuri.co.jp/\" + url, end=\"\\n\\n\")"
   ]
  }
 ],
 "metadata": {
  "kernelspec": {
   "display_name": "learn-scraping",
   "language": "python",
   "name": "learn-scraping"
  },
  "language_info": {
   "codemirror_mode": {
    "name": "ipython",
    "version": 3
   },
   "file_extension": ".py",
   "mimetype": "text/x-python",
   "name": "python",
   "nbconvert_exporter": "python",
   "pygments_lexer": "ipython3",
   "version": "3.10.12"
  }
 },
 "nbformat": 4,
 "nbformat_minor": 2
}
