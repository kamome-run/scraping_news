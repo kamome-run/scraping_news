{
 "cells": [
  {
   "cell_type": "code",
   "execution_count": 35,
   "metadata": {},
   "outputs": [],
   "source": [
    "import requests\n",
    "from bs4 import BeautifulSoup\n",
    "import time"
   ]
  },
  {
   "cell_type": "code",
   "execution_count": 36,
   "metadata": {},
   "outputs": [],
   "source": [
    "url = \"https://www.yahoo.co.jp/\""
   ]
  },
  {
   "cell_type": "code",
   "execution_count": 37,
   "metadata": {},
   "outputs": [],
   "source": [
    "res = requests.get(url)"
   ]
  },
  {
   "cell_type": "code",
   "execution_count": 38,
   "metadata": {},
   "outputs": [
    {
     "name": "stdout",
     "output_type": "stream",
     "text": [
      "URLをfetchすることに成功しました。\n"
     ]
    }
   ],
   "source": [
    "if res.status_code == 200:\n",
    "    print(\"URLをfetchすることに成功しました。\")\n",
    "else:\n",
    "    print(f\"URLをfetchすることに失敗しました。Status code: {res.status_code}\")"
   ]
  },
  {
   "cell_type": "code",
   "execution_count": 39,
   "metadata": {},
   "outputs": [],
   "source": [
    "soup = BeautifulSoup(res.text, \"html.parser\")"
   ]
  },
  {
   "cell_type": "code",
   "execution_count": 40,
   "metadata": {},
   "outputs": [],
   "source": [
    "elems = soup.find_all(href=re.compile(\"news.yahoo.co.jp/pickup\"))"
   ]
  },
  {
   "cell_type": "code",
   "execution_count": 41,
   "metadata": {},
   "outputs": [],
   "source": [
    "elem_titles = []\n",
    "elem_urls = []"
   ]
  },
  {
   "cell_type": "code",
   "execution_count": 42,
   "metadata": {},
   "outputs": [],
   "source": [
    "elem_titles = [elem.span.string for elem in elems]\n",
    "elem_urls = [elem.attrs[\"href\"] for elem in elems]"
   ]
  },
  {
   "cell_type": "code",
   "execution_count": 43,
   "metadata": {},
   "outputs": [
    {
     "name": "stdout",
     "output_type": "stream",
     "text": [
      "['九州北部 15日かけ線状降水帯恐れ', '米銃撃 大統領選の行方変えるか', 'トランプ氏銃撃 世界各国に衝撃', '鋼板が落下 けい椎骨折の男性死亡', 'お茶3杯で1万5000円 農家の大逆転', 'DF菅原由勢 サウサンプトン移籍', '俳優の中村靖日さん死去 51歳', '峯岸みなみ、第1子出産を発表']\n",
      "['https://news.yahoo.co.jp/pickup/6507525', 'https://news.yahoo.co.jp/pickup/6507524', 'https://news.yahoo.co.jp/pickup/6507530', 'https://news.yahoo.co.jp/pickup/6507523', 'https://news.yahoo.co.jp/pickup/6507512', 'https://news.yahoo.co.jp/pickup/6507531', 'https://news.yahoo.co.jp/pickup/6507528', 'https://news.yahoo.co.jp/pickup/6507526']\n"
     ]
    }
   ],
   "source": [
    "print(elem_titles)\n",
    "print(elem_urls)"
   ]
  },
  {
   "cell_type": "code",
   "execution_count": 44,
   "metadata": {},
   "outputs": [
    {
     "name": "stdout",
     "output_type": "stream",
     "text": [
      "九州北部 15日かけ線状降水帯恐れ\n",
      "https://news.yahoo.co.jp/articles/6b554c511862476e77c6ec31a57dcb8ad7ea4b5a\n",
      "\n",
      "米銃撃 大統領選の行方変えるか\n",
      "https://news.yahoo.co.jp/articles/33308bc74d256a980603d4705fbd3fb803911cc5\n",
      "\n",
      "トランプ氏銃撃 世界各国に衝撃\n",
      "https://news.yahoo.co.jp/articles/2d12a5627112aa7d2892955d1de7c13e943963c2\n",
      "\n",
      "鋼板が落下 けい椎骨折の男性死亡\n",
      "https://news.yahoo.co.jp/articles/83e0e056fe0a98fb6e95a14f4e7606f4dc378ba8\n",
      "\n",
      "お茶3杯で1万5000円 農家の大逆転\n",
      "https://news.yahoo.co.jp/articles/44dc25d566772f614981a8efa86f214eec87eb6f\n",
      "\n",
      "DF菅原由勢 サウサンプトン移籍\n",
      "https://news.yahoo.co.jp/articles/b0ee1b4c2b621b937e6638b8dc13ddd78c8844d6\n",
      "\n",
      "俳優の中村靖日さん死去 51歳\n",
      "https://news.yahoo.co.jp/articles/c6e78a21c5e6f533f7358fbf25b29ad87e78940d\n",
      "\n",
      "峯岸みなみ、第1子出産を発表\n",
      "https://news.yahoo.co.jp/articles/5a0dfa9d16e04b6dc0535dc3d101c2995348c97a\n",
      "\n"
     ]
    }
   ],
   "source": [
    "for news_title, pickup_url in zip(elem_titles, elem_urls):\n",
    "    pickup_res = requests.get(pickup_url)\n",
    "    pickup_soup = BeautifulSoup(pickup_res.text, \"html.parser\")\n",
    "    \n",
    "    pickup_elem = pickup_soup.find(\"div\", class_=\"sc-gdv5m1-8 eMtbmz\")\n",
    "    news_url = pickup_elem.a.attrs[\"href\"]\n",
    "    \n",
    "    print(news_title)\n",
    "    print(news_url, end=\"\\n\\n\")"
   ]
  }
 ],
 "metadata": {
  "kernelspec": {
   "display_name": ".venv",
   "language": "python",
   "name": "python3"
  },
  "language_info": {
   "codemirror_mode": {
    "name": "ipython",
    "version": 3
   },
   "file_extension": ".py",
   "mimetype": "text/x-python",
   "name": "python",
   "nbconvert_exporter": "python",
   "pygments_lexer": "ipython3",
   "version": "3.10.12"
  }
 },
 "nbformat": 4,
 "nbformat_minor": 2
}
