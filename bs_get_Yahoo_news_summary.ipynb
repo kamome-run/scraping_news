{
 "cells": [
  {
   "cell_type": "code",
   "execution_count": 7,
   "metadata": {},
   "outputs": [],
   "source": [
    "import requests\n",
    "from bs4 import BeautifulSoup\n",
    "import re\n",
    "import time"
   ]
  },
  {
   "cell_type": "code",
   "execution_count": 8,
   "metadata": {},
   "outputs": [],
   "source": [
    "url = \"https://www.yahoo.co.jp/\""
   ]
  },
  {
   "cell_type": "code",
   "execution_count": 9,
   "metadata": {},
   "outputs": [],
   "source": [
    "res = requests.get(url)"
   ]
  },
  {
   "cell_type": "code",
   "execution_count": 4,
   "metadata": {},
   "outputs": [
    {
     "name": "stdout",
     "output_type": "stream",
     "text": [
      "URLをfetchすることに成功しました。\n"
     ]
    }
   ],
   "source": [
    "if res.status_code == 200:\n",
    "    print(\"URLをfetchすることに成功しました。\")\n",
    "else:\n",
    "    print(f\"URLをfetchすることに失敗しました。Status code: {res.status_code}\")"
   ]
  },
  {
   "cell_type": "code",
   "execution_count": 10,
   "metadata": {},
   "outputs": [],
   "source": [
    "soup = BeautifulSoup(res.text, \"html.parser\")"
   ]
  },
  {
   "cell_type": "code",
   "execution_count": 11,
   "metadata": {},
   "outputs": [],
   "source": [
    "elems = soup.find_all(href=re.compile(\"news.yahoo.co.jp/pickup\"))"
   ]
  },
  {
   "cell_type": "code",
   "execution_count": 12,
   "metadata": {},
   "outputs": [],
   "source": [
    "elem_titles = []\n",
    "elem_urls = []"
   ]
  },
  {
   "cell_type": "code",
   "execution_count": 13,
   "metadata": {},
   "outputs": [],
   "source": [
    "elem_titles = [elem.span.string for elem in elems]\n",
    "elem_urls = [elem.attrs[\"href\"] for elem in elems]"
   ]
  },
  {
   "cell_type": "code",
   "execution_count": 14,
   "metadata": {},
   "outputs": [
    {
     "name": "stdout",
     "output_type": "stream",
     "text": [
      "['強制不妊 除斥期間主張の撤回表明', '米銃撃容疑者が当日に欠勤 米報道', 'イランがトランプ氏暗殺を計画か', '大震災 なぜ女性の死者が多いのか', '詐欺など疑い 比で日本人4人拘束', '「大麻工場」を摘発 5億円分押収', '佐野海舟容疑者逮捕 マインツ声明', 'GACKT 過去に家庭教師のバイト']\n",
      "['https://news.yahoo.co.jp/pickup/6507826', 'https://news.yahoo.co.jp/pickup/6507819', 'https://news.yahoo.co.jp/pickup/6507799', 'https://news.yahoo.co.jp/pickup/6507821', 'https://news.yahoo.co.jp/pickup/6507815', 'https://news.yahoo.co.jp/pickup/6507813', 'https://news.yahoo.co.jp/pickup/6507820', 'https://news.yahoo.co.jp/pickup/6507822']\n"
     ]
    }
   ],
   "source": [
    "print(elem_titles)\n",
    "print(elem_urls)"
   ]
  },
  {
   "cell_type": "code",
   "execution_count": 17,
   "metadata": {},
   "outputs": [
    {
     "name": "stdout",
     "output_type": "stream",
     "text": [
      "強制不妊 除斥期間主張の撤回表明\n",
      "https://news.yahoo.co.jp/articles/6e5bb8446a6d9cafb09ce2e0b76b9a664cdd1c5e\n",
      "\n",
      "米銃撃容疑者が当日に欠勤 米報道\n",
      "https://news.yahoo.co.jp/articles/988ea18de3e3c1604dfb3193d73c25ae348de540\n",
      "\n",
      "イランがトランプ氏暗殺を計画か\n",
      "https://news.yahoo.co.jp/articles/44619229993b2f992e2c48695ca30bdaa04c1664\n",
      "\n",
      "大震災 なぜ女性の死者が多いのか\n",
      "https://news.yahoo.co.jp/articles/168c5fe4b8f3df109b64f91a7190075101acadae\n",
      "\n"
     ]
    }
   ],
   "source": [
    "#ループ処理でニュースのタイトルとURLをリストから取り出す\n",
    "#取り出したURLからページを取得する\n",
    "#取得したページをhtml.parserで解析する\n",
    "for news_title, pickup_url in zip(elem_titles, elem_urls):\n",
    "    pickup_res = requests.get(pickup_url)\n",
    "    pickup_soup = BeautifulSoup(pickup_res.text, \"html.parser\")\n",
    "    \n",
    "    #pickup_soupに格納したページのデータから記事が格納されたものを取りだす\n",
    "    #news_urlに記事本文へのURLを格納する\n",
    "    pickup_elem = pickup_soup.find(\"div\", class_=\"sc-gdv5m1-8 eMtbmz\")\n",
    "    news_url = pickup_elem.a.attrs[\"href\"]\n",
    "    \n",
    "    #記事のタイトルとURLを出力\n",
    "    print(news_title)\n",
    "    print(news_url, end=\"\\n\\n\")\n",
    "    \n",
    "    #1秒ごとにループ処理を実行\n",
    "    time.sleep(1)"
   ]
  }
 ],
 "metadata": {
  "kernelspec": {
   "display_name": ".venv",
   "language": "python",
   "name": "python3"
  },
  "language_info": {
   "codemirror_mode": {
    "name": "ipython",
    "version": 3
   },
   "file_extension": ".py",
   "mimetype": "text/x-python",
   "name": "python",
   "nbconvert_exporter": "python",
   "pygments_lexer": "ipython3",
   "version": "3.10.12"
  }
 },
 "nbformat": 4,
 "nbformat_minor": 2
}
