{
 "cells": [
  {
   "cell_type": "code",
   "execution_count": 12,
   "metadata": {},
   "outputs": [],
   "source": [
    "import requests\n",
    "from bs4 import BeautifulSoup\n",
    "import time\n",
    "import re"
   ]
  },
  {
   "cell_type": "code",
   "execution_count": 13,
   "metadata": {},
   "outputs": [],
   "source": [
    "url = \"https://www.yahoo.co.jp/\""
   ]
  },
  {
   "cell_type": "code",
   "execution_count": 14,
   "metadata": {},
   "outputs": [],
   "source": [
    "res = requests.get(url)"
   ]
  },
  {
   "cell_type": "code",
   "execution_count": 15,
   "metadata": {},
   "outputs": [
    {
     "name": "stdout",
     "output_type": "stream",
     "text": [
      "URLをfetchすることに成功しました。\n"
     ]
    }
   ],
   "source": [
    "if res.status_code == 200:\n",
    "    print(\"URLをfetchすることに成功しました。\")\n",
    "else:\n",
    "    print(f\"URLをfetchすることに失敗しました。Status code: {res.status_code}\")"
   ]
  },
  {
   "cell_type": "code",
   "execution_count": 16,
   "metadata": {},
   "outputs": [],
   "source": [
    "soup = BeautifulSoup(res.text, \"html.parser\")"
   ]
  },
  {
   "cell_type": "code",
   "execution_count": 19,
   "metadata": {},
   "outputs": [
    {
     "data": {
      "text/plain": [
       "[<a class=\"yMWCYupQNdgppL-NV6sMi _3sAlKGsIBCxTUbNi86oSjt\" data-cl-params=\"_cl_vmodule:header;_cl_link:logo;_cl_position:0\" href=\"https://www.yahoo.co.jp\">Yahoo! JAPAN</a>,\n",
       " <a aria-label=\"トラベルへ遷移する\" class=\"yMWCYupQNdgppL-NV6sMi _3sAlKGsIBCxTUbNi86oSjt cl-nofollow\" data-cl-params=\"_cl_vmodule:header;_cl_link:travel;_cl_position:0\" href=\"https://travel.yahoo.co.jp/ikCo.ashx?cosid=y_010017&amp;cosuid=ytmh&amp;surl=%2F&amp;sc_e=ytmh\"><p class=\"oLvk9L5Yk-9JOuzi-OHW5\"><span class=\"t_jb9bKlgIcajcRS2hZAP\">トラベル</span><span class=\"_2Uq6Pw5lfFfxr_OD36xHp6 _1dr5aVDbNPF63JCS2bJhij _1yEKxUFSw-Xv2gaBZsYRuI\" style=\"width:38px;height:38px\"></span></p></a>,\n",
       " <a aria-label=\"カードへ遷移する\" class=\"yMWCYupQNdgppL-NV6sMi _3sAlKGsIBCxTUbNi86oSjt cl-nofollow\" data-cl-params=\"_cl_vmodule:header;_cl_link:paypaycard;_cl_position:0\" href=\"https://www.paypay-card.co.jp?utm_source=YTOP&amp;utm_medium=mhd&amp;utm_campaign=pc\"><p class=\"oLvk9L5Yk-9JOuzi-OHW5\"><span class=\"t_jb9bKlgIcajcRS2hZAP\">カード</span><span class=\"_2Uq6Pw5lfFfxr_OD36xHp6 _1dr5aVDbNPF63JCS2bJhij P1WzQfoRll3q8GIGneUYg\" style=\"width:36px;height:38px\"></span></p></a>,\n",
       " <a aria-label=\"メールへ遷移する\" class=\"yMWCYupQNdgppL-NV6sMi _3sAlKGsIBCxTUbNi86oSjt cl-nofollow\" data-cl-params=\"_cl_vmodule:header;_cl_link:mail;_cl_position:0\" href=\"https://mail.yahoo.co.jp/\"><p class=\"oLvk9L5Yk-9JOuzi-OHW5\"><span class=\"t_jb9bKlgIcajcRS2hZAP\">メール</span><span class=\"_2Uq6Pw5lfFfxr_OD36xHp6 _1dr5aVDbNPF63JCS2bJhij _3Qi5P0lTFbNkWishPzz8tb\" style=\"width:36px;height:38px\"></span></p></a>,\n",
       " <a aria-label=\"プレミアムへ遷移する\" class=\"yMWCYupQNdgppL-NV6sMi _3sAlKGsIBCxTUbNi86oSjt cl-nofollow\" data-cl-params=\"_cl_vmodule:header;_cl_link:lyppremium;_cl_position:0\" href=\"https://premium.yahoo.co.jp/?sc_e=stpage_lyp_mast_head_pc_prem\"><p class=\"oLvk9L5Yk-9JOuzi-OHW5\"><span class=\"t_jb9bKlgIcajcRS2hZAP\">プレミアム</span><span class=\"_2Uq6Pw5lfFfxr_OD36xHp6 _1dr5aVDbNPF63JCS2bJhij _2vyatED2hs23LjLXjcyjeg\" style=\"width:48px;height:38px\"></span></p></a>,\n",
       " <a aria-label=\"オークションへ遷移する\" class=\"yMWCYupQNdgppL-NV6sMi _3sAlKGsIBCxTUbNi86oSjt cl-nofollow\" data-cl-params=\"_cl_vmodule:header;_cl_link:auction;_cl_position:0\" href=\"https://auctions.yahoo.co.jp/\"><p class=\"oLvk9L5Yk-9JOuzi-OHW5\"><span class=\"t_jb9bKlgIcajcRS2hZAP\">オークション</span><span class=\"_2Uq6Pw5lfFfxr_OD36xHp6 _1dr5aVDbNPF63JCS2bJhij _1K47f2oTmrnpusFOpVVqfY\" style=\"width:38px;height:38px\"></span></p></a>,\n",
       " <a aria-label=\"ショッピングへ遷移する\" class=\"yMWCYupQNdgppL-NV6sMi _3sAlKGsIBCxTUbNi86oSjt cl-nofollow\" data-cl-params=\"_cl_vmodule:header;_cl_link:shopping;_cl_position:0\" href=\"https://shopping.yahoo.co.jp/?sc_e=ytmh\"><p class=\"oLvk9L5Yk-9JOuzi-OHW5\"><span class=\"t_jb9bKlgIcajcRS2hZAP\">ショッピング</span><span class=\"_2Uq6Pw5lfFfxr_OD36xHp6 _1dr5aVDbNPF63JCS2bJhij MOLSPrtOUmdnYy_LgNt2f\" style=\"width:38px;height:38px\"></span></p></a>,\n",
       " <a aria-label=\"ウェブで検索\" class=\"y9H1Sj9hz4OlEq2_aEt5E\" data-cl-params=\"_cl_vmodule:search;_cl_link:web_tab;_cl_position:0\" href=\"https://search.yahoo.co.jp/\" tabindex=\"-1\"><span class=\"fQMqQTGJTbIMxjQwZA2zk _3tGRl6x9iIWRiFTkKl3kcR\"><span class=\"_1uQvvM7M_K0hc4e29lRa8 _2B_ETzo6nh1JNMLebSi_2p\">ウェブ</span></span></a>,\n",
       " <a aria-label=\"画像で検索\" class=\"y9H1Sj9hz4OlEq2_aEt5E\" data-cl-params=\"_cl_vmodule:search;_cl_link:img;_cl_position:0\" href=\"https://search.yahoo.co.jp/image\" tabindex=\"-1\"><span class=\"fQMqQTGJTbIMxjQwZA2zk _3tGRl6x9iIWRiFTkKl3kcR\"><span class=\"_1uQvvM7M_K0hc4e29lRa8\">画像</span></span></a>,\n",
       " <a aria-label=\"動画で検索\" class=\"y9H1Sj9hz4OlEq2_aEt5E\" data-cl-params=\"_cl_vmodule:search;_cl_link:vd;_cl_position:0\" href=\"https://search.yahoo.co.jp/video\" tabindex=\"-1\"><span class=\"fQMqQTGJTbIMxjQwZA2zk _3tGRl6x9iIWRiFTkKl3kcR\"><span class=\"_1uQvvM7M_K0hc4e29lRa8\">動画</span></span></a>,\n",
       " <a aria-label=\"知恵袋で検索\" class=\"y9H1Sj9hz4OlEq2_aEt5E\" data-cl-params=\"_cl_vmodule:search;_cl_link:chie;_cl_position:0\" href=\"https://chiebukuro.yahoo.co.jp/\" tabindex=\"-1\"><span class=\"fQMqQTGJTbIMxjQwZA2zk _3tGRl6x9iIWRiFTkKl3kcR\"><span class=\"_1uQvvM7M_K0hc4e29lRa8\">知恵袋</span></span></a>,\n",
       " <a aria-label=\"地図で検索\" class=\"y9H1Sj9hz4OlEq2_aEt5E\" data-cl-params=\"_cl_vmodule:search;_cl_link:map;_cl_position:0\" href=\"https://map.yahoo.co.jp/\" tabindex=\"-1\"><span class=\"fQMqQTGJTbIMxjQwZA2zk _3tGRl6x9iIWRiFTkKl3kcR\"><span class=\"_1uQvvM7M_K0hc4e29lRa8\">地図</span></span></a>,\n",
       " <a aria-label=\"リアルタイムで検索\" class=\"y9H1Sj9hz4OlEq2_aEt5E\" data-cl-params=\"_cl_vmodule:search;_cl_link:realtime;_cl_position:0\" href=\"https://search.yahoo.co.jp/realtime\" tabindex=\"-1\"><span class=\"fQMqQTGJTbIMxjQwZA2zk _3tGRl6x9iIWRiFTkKl3kcR\"><span class=\"_1uQvvM7M_K0hc4e29lRa8\">リアルタイム</span></span></a>,\n",
       " <a aria-label=\"一覧で検索\" class=\"y9H1Sj9hz4OlEq2_aEt5E\" data-cl-params=\"_cl_vmodule:search;_cl_link:svc;_cl_position:0\" href=\"https://services.yahoo.co.jp/\" tabindex=\"-1\"><span class=\"fQMqQTGJTbIMxjQwZA2zk _3tGRl6x9iIWRiFTkKl3kcR\"><span class=\"_1uQvvM7M_K0hc4e29lRa8\">一覧</span></span></a>,\n",
       " <a class=\"_1NzGMsC3awTFzjzXnvX-zV\" data-cl-params=\"_cl_vmodule:message;_cl_link:jsof;_cl_position:0\" href=\"https://support.yahoo-net.jp/noscript\">JavaScriptの設定方法</a>,\n",
       " <a class=\"yMWCYupQNdgppL-NV6sMi _3sAlKGsIBCxTUbNi86oSjt\" data-cl-params=\"_cl_vmodule:toplink;_cl_link:link;_cl_position:1;aid:5062273\" href=\"https://shopping.yahoo.co.jp/promotion/sale/ppf/?sc_e=yttl_pc_ppf2407\"><span class=\"fQMqQTGJTbIMxjQwZA2zk _3tGRl6x9iIWRiFTkKl3kcR\"><span class=\"_3S2Wdrkt1LKANaWcLrZToT\">条件を満たすと7/20・21の買い物で最大23.5％</span></span></a>,\n",
       " <a class=\"yMWCYupQNdgppL-NV6sMi _3sAlKGsIBCxTUbNi86oSjt\" data-cl-params=\"_cl_vmodule:toplink;_cl_link:link;_cl_position:2;aid:5062291\" href=\"https://ebookjapan.yahoo.co.jp/free/45001/\"><span class=\"fQMqQTGJTbIMxjQwZA2zk _3tGRl6x9iIWRiFTkKl3kcR\"><span class=\"_3S2Wdrkt1LKANaWcLrZToT\">キン肉マンなど19冊無料で読める</span></span></a>,\n",
       " <a aria-label=\"ショッピングへ遷移する\" class=\"yMWCYupQNdgppL-NV6sMi _3sAlKGsIBCxTUbNi86oSjt cl-nofollow\" href=\"https://shopping.yahoo.co.jp/?sc_e=ytc\"><p class=\"_2bBRLhI5ZpVYu0tuHZEFrn\"><span class=\"pz0On1w4yAviBGMdKItoQ\"><span class=\"fQMqQTGJTbIMxjQwZA2zk _3tGRl6x9iIWRiFTkKl3kcR\">ショッピング</span></span><span class=\"_1Al3K70np2V_Ev1eGkfsBm\"><span class=\"_2Uq6Pw5lfFfxr_OD36xHp6 _1dr5aVDbNPF63JCS2bJhij MOLSPrtOUmdnYy_LgNt2f\" style=\"width:20px;height:20px\"></span></span></p></a>,\n",
       " <a aria-label=\"オークションへ遷移する\" class=\"yMWCYupQNdgppL-NV6sMi _3sAlKGsIBCxTUbNi86oSjt cl-nofollow\" href=\"https://auctions.yahoo.co.jp\"><p class=\"_2bBRLhI5ZpVYu0tuHZEFrn\"><span class=\"pz0On1w4yAviBGMdKItoQ\"><span class=\"fQMqQTGJTbIMxjQwZA2zk _3tGRl6x9iIWRiFTkKl3kcR\">オークション</span></span><span class=\"_1Al3K70np2V_Ev1eGkfsBm\"><span class=\"_2Uq6Pw5lfFfxr_OD36xHp6 _1dr5aVDbNPF63JCS2bJhij _1K47f2oTmrnpusFOpVVqfY\" style=\"width:20px;height:20px\"></span></span></p></a>,\n",
       " <a aria-label=\"フリマへ遷移する\" class=\"yMWCYupQNdgppL-NV6sMi _3sAlKGsIBCxTUbNi86oSjt cl-nofollow\" href=\"https://app.adjust.com/1kmi1m2?redirect=https%3A%2F%2Fpaypayfleamarket.yahoo.co.jp%2F%3Fcpt_s%3Dytopmedia%26cpt_m%3Dkotei%26cpt_n%3Dcontent%26cpt_c%3Dytopmedia\"><p class=\"_2bBRLhI5ZpVYu0tuHZEFrn\"><span class=\"pz0On1w4yAviBGMdKItoQ\"><span class=\"fQMqQTGJTbIMxjQwZA2zk _3tGRl6x9iIWRiFTkKl3kcR\">フリマ</span></span><span class=\"_1Al3K70np2V_Ev1eGkfsBm\"><span class=\"_2Uq6Pw5lfFfxr_OD36xHp6 _1dr5aVDbNPF63JCS2bJhij _1LRBe41RBepLBxFbOUXYRk\" style=\"width:20px;height:20px\"></span></span></p></a>,\n",
       " <a aria-label=\"ZOZOTOWNへ遷移する\" class=\"yMWCYupQNdgppL-NV6sMi _3sAlKGsIBCxTUbNi86oSjt cl-nofollow\" href=\"https://zozo.jp/?utm_source=yahoo&amp;utm_medium=referral&amp;utm_campaign=web_ytop-leftcolumn\"><p class=\"_2bBRLhI5ZpVYu0tuHZEFrn\"><span class=\"pz0On1w4yAviBGMdKItoQ\"><span class=\"fQMqQTGJTbIMxjQwZA2zk _3tGRl6x9iIWRiFTkKl3kcR\">ZOZOTOWN</span></span><span class=\"_1Al3K70np2V_Ev1eGkfsBm\"><span class=\"_2Uq6Pw5lfFfxr_OD36xHp6 _1dr5aVDbNPF63JCS2bJhij _2VdNwkD_q8hjK0ZyvATgab\" style=\"width:20px;height:20px\"></span></span></p></a>,\n",
       " <a aria-label=\"LOHACOへ遷移する\" class=\"yMWCYupQNdgppL-NV6sMi _3sAlKGsIBCxTUbNi86oSjt cl-nofollow\" href=\"https://lohaco.yahoo.co.jp/?bk=t&amp;sc_e=j_as_ya_tc_n&amp;iscr=1\"><p class=\"_2bBRLhI5ZpVYu0tuHZEFrn\"><span class=\"pz0On1w4yAviBGMdKItoQ\"><span class=\"fQMqQTGJTbIMxjQwZA2zk _3tGRl6x9iIWRiFTkKl3kcR\">LOHACO</span></span><span class=\"_1Al3K70np2V_Ev1eGkfsBm\"><span class=\"_2Uq6Pw5lfFfxr_OD36xHp6 _1dr5aVDbNPF63JCS2bJhij _3xvmznkMqRitO0Iqn3ckur\" style=\"width:20px;height:20px\"></span></span></p></a>,\n",
       " <a aria-label=\"トラベルへ遷移する\" class=\"yMWCYupQNdgppL-NV6sMi _3sAlKGsIBCxTUbNi86oSjt cl-nofollow\" href=\"https://travel.yahoo.co.jp/ikCo.ashx?cosid=y_010002&amp;cosuid=ytsl&amp;surl=%2F&amp;sc_e=ytsl\"><p class=\"_2bBRLhI5ZpVYu0tuHZEFrn\"><span class=\"pz0On1w4yAviBGMdKItoQ\"><span class=\"fQMqQTGJTbIMxjQwZA2zk _3tGRl6x9iIWRiFTkKl3kcR\">トラベル</span></span><span class=\"_1Al3K70np2V_Ev1eGkfsBm\"><span class=\"_2Uq6Pw5lfFfxr_OD36xHp6 _1dr5aVDbNPF63JCS2bJhij _1yEKxUFSw-Xv2gaBZsYRuI\" style=\"width:20px;height:20px\"></span></span></p></a>,\n",
       " <a aria-label=\"一休.comへ遷移する\" class=\"yMWCYupQNdgppL-NV6sMi _3sAlKGsIBCxTUbNi86oSjt cl-nofollow\" href=\"https://www.ikyu.com/ikCo.ashx?cosid=ik010002&amp;surl=%2F&amp;sc_e=ytc_pc_ikyu\"><p class=\"_2bBRLhI5ZpVYu0tuHZEFrn\"><span class=\"pz0On1w4yAviBGMdKItoQ\"><span class=\"fQMqQTGJTbIMxjQwZA2zk _3tGRl6x9iIWRiFTkKl3kcR\">一休.com</span></span><span class=\"_1Al3K70np2V_Ev1eGkfsBm\"><span class=\"_2Uq6Pw5lfFfxr_OD36xHp6 _1dr5aVDbNPF63JCS2bJhij daLkyi7PiGXeFyVYTU_9n\" style=\"width:20px;height:20px\"></span></span></p></a>,\n",
       " <a aria-label=\"一休.comレストランへ遷移する\" class=\"yMWCYupQNdgppL-NV6sMi _3sAlKGsIBCxTUbNi86oSjt cl-nofollow\" href=\"https://restaurant.ikyu.com/rsCosite.asp?CosNo=10000175&amp;CosUrl=\"><p class=\"_2bBRLhI5ZpVYu0tuHZEFrn\"><span class=\"pz0On1w4yAviBGMdKItoQ\"><span class=\"fQMqQTGJTbIMxjQwZA2zk _3tGRl6x9iIWRiFTkKl3kcR\">一休.comレストラン</span></span><span class=\"_1Al3K70np2V_Ev1eGkfsBm\"><span class=\"_2Uq6Pw5lfFfxr_OD36xHp6 _1dr5aVDbNPF63JCS2bJhij _1z4Le4zkghapVZCQm9RCy8\" style=\"width:20px;height:20px\"></span></span></p></a>,\n",
       " <a aria-label=\"PayPayグルメへ遷移する\" class=\"yMWCYupQNdgppL-NV6sMi _3sAlKGsIBCxTUbNi86oSjt cl-nofollow\" href=\"https://paypaygourmet.yahoo.co.jp/?sc_e=ytc\"><p class=\"_2bBRLhI5ZpVYu0tuHZEFrn\"><span class=\"pz0On1w4yAviBGMdKItoQ\"><span class=\"fQMqQTGJTbIMxjQwZA2zk _3tGRl6x9iIWRiFTkKl3kcR\">PayPayグルメ</span></span><span class=\"_1Al3K70np2V_Ev1eGkfsBm\"><span class=\"_2Uq6Pw5lfFfxr_OD36xHp6 _1dr5aVDbNPF63JCS2bJhij PgUs6FV7zVPjsTeGUP8wT\" style=\"width:20px;height:20px\"></span></span></p></a>,\n",
       " <a aria-label=\"出前館へ遷移する\" class=\"yMWCYupQNdgppL-NV6sMi _3sAlKGsIBCxTUbNi86oSjt cl-nofollow\" href=\"https://demae-can.com/?utm_source=yahoo&amp;utm_medium=toplink&amp;utm_campaign=demaecantop\"><p class=\"_2bBRLhI5ZpVYu0tuHZEFrn\"><span class=\"pz0On1w4yAviBGMdKItoQ\"><span class=\"fQMqQTGJTbIMxjQwZA2zk _3tGRl6x9iIWRiFTkKl3kcR\">出前館</span></span><span class=\"_1Al3K70np2V_Ev1eGkfsBm\"><span class=\"_2Uq6Pw5lfFfxr_OD36xHp6 _1dr5aVDbNPF63JCS2bJhij NuRliOifOckuQ9kobVaI9\" style=\"width:20px;height:20px\"></span></span></p></a>,\n",
       " <a aria-label=\"Yahoo! JAPANのサービス一覧\" class=\"yMWCYupQNdgppL-NV6sMi _3sAlKGsIBCxTUbNi86oSjt\" data-cl-params=\"_cl_vmodule:tool;_cl_link:list;_cl_position:0\" href=\"https://services.yahoo.co.jp/\"><dl class=\"STepvEgbaZ0rLEqfER-qm\"><dt class=\"W2bretj6vyf8QDes2gkQA\"><span class=\"fQMqQTGJTbIMxjQwZA2zk _3tGRl6x9iIWRiFTkKl3kcR\">サービス一覧</span></dt><dd class=\"_37zK--zuySKLzNE12rgdHL\"><span class=\"_2Uq6Pw5lfFfxr_OD36xHp6 _1dr5aVDbNPF63JCS2bJhij _3WrFs0ChLr_s9-gBqS7yts\" style=\"width:12px;height:12px\"></span></dd></dl></a>,\n",
       " <a class=\"yMWCYupQNdgppL-NV6sMi _3sAlKGsIBCxTUbNi86oSjt\" data-cl-params=\"_cl_vmodule:tpto;_cl_link:title;_cl_position:1;tpid:6507311;shcid:2cff5b8a4206b8d7dd149d41bc00e0b1fd1a0e45;imgsize:s;cmt_num:26\" data-ual-gotocontent=\"true\" href=\"https://news.yahoo.co.jp/pickup/6507311\"><div class=\"_2cXD1uC4eaOih4-zkRgqjU\"><div class=\"TRuzXRRZHRqbqgLUCCco9\"><h1 class=\"_3cl937Zpn1ce8mDKd5kp7u\"><span class=\"fQMqQTGJTbIMxjQwZA2zk _1alzSpTqJzvSVUWqpx82d4\">西-東日本3連休は雨 土砂災害警戒</span></h1></div></div></a>,\n",
       " <a class=\"yMWCYupQNdgppL-NV6sMi _3sAlKGsIBCxTUbNi86oSjt\" data-cl-params=\"_cl_vmodule:tpto;_cl_link:title;_cl_position:2;tpid:6507318;shcid:9f4d1ecd37cdbf8f8e2c8c8168ee8241c5b78002;imgsize:s;cmt_num:71\" data-ual-gotocontent=\"true\" href=\"https://news.yahoo.co.jp/pickup/6507318\"><div class=\"_2cXD1uC4eaOih4-zkRgqjU\"><div class=\"TRuzXRRZHRqbqgLUCCco9\"><h1 class=\"_3cl937Zpn1ce8mDKd5kp7u\"><span class=\"fQMqQTGJTbIMxjQwZA2zk _1alzSpTqJzvSVUWqpx82d4\">準強制性交罪 元地検検事正を起訴</span></h1><span class=\"_2obRU_TgAxzHaYqOXrZYlv\"><span class=\"h4yLXygiSc5wwNlJOQEdz _1dr5aVDbNPF63JCS2bJhij _2M3AyDfFaeJl3Uo7lUPMAp\" style=\"width:30px;height:12px\">NEW</span></span></div></div></a>,\n",
       " <a class=\"yMWCYupQNdgppL-NV6sMi _3sAlKGsIBCxTUbNi86oSjt\" data-cl-params=\"_cl_vmodule:tpto;_cl_link:title;_cl_position:3;tpid:6507307;shcid:12dab9176b33e405bd1ee0fe352581e37ce1238e;imgsize:s;cmt_num:2775\" data-ual-gotocontent=\"true\" href=\"https://news.yahoo.co.jp/pickup/6507307\"><div class=\"_2cXD1uC4eaOih4-zkRgqjU\"><div class=\"TRuzXRRZHRqbqgLUCCco9\"><h1 class=\"_3cl937Zpn1ce8mDKd5kp7u\"><span class=\"fQMqQTGJTbIMxjQwZA2zk _1alzSpTqJzvSVUWqpx82d4\">夏ボーナス 大手企業は平均98万円</span></h1></div></div></a>,\n",
       " <a class=\"yMWCYupQNdgppL-NV6sMi _3sAlKGsIBCxTUbNi86oSjt\" data-cl-params=\"_cl_vmodule:tpto;_cl_link:title;_cl_position:4;tpid:6507310;shcid:61274db1dddd493f23bffe084db68e3ae11bec15;imgsize:s;cmt_num:731\" data-ual-gotocontent=\"true\" href=\"https://news.yahoo.co.jp/pickup/6507310\"><div class=\"_2cXD1uC4eaOih4-zkRgqjU\"><div class=\"TRuzXRRZHRqbqgLUCCco9\"><h1 class=\"_3cl937Zpn1ce8mDKd5kp7u\"><span class=\"fQMqQTGJTbIMxjQwZA2zk _1alzSpTqJzvSVUWqpx82d4\">柔道訓練で女性巡査重体 頭強打か</span></h1></div></div></a>,\n",
       " <a class=\"yMWCYupQNdgppL-NV6sMi _3sAlKGsIBCxTUbNi86oSjt\" data-cl-params=\"_cl_vmodule:tpto;_cl_link:title;_cl_position:5;tpid:6507306;shcid:a35864004bc8ea2f7f1359b7863d5008bf6087fb;imgsize:s;cmt_num:1245\" data-ual-gotocontent=\"true\" href=\"https://news.yahoo.co.jp/pickup/6507306\"><div class=\"_2cXD1uC4eaOih4-zkRgqjU\"><div class=\"TRuzXRRZHRqbqgLUCCco9\"><h1 class=\"_3cl937Zpn1ce8mDKd5kp7u\"><span class=\"fQMqQTGJTbIMxjQwZA2zk _1alzSpTqJzvSVUWqpx82d4\">都知事選「Rシール」法的問題は</span></h1></div></div></a>,\n",
       " <a class=\"yMWCYupQNdgppL-NV6sMi _3sAlKGsIBCxTUbNi86oSjt\" data-cl-params=\"_cl_vmodule:tpto;_cl_link:title;_cl_position:6;tpid:6507316;shcid:0995009d0a43924c3611bbb7fa608623d2b8c51e;imgsize:s;cmt_num:15\" data-ual-gotocontent=\"true\" href=\"https://news.yahoo.co.jp/pickup/6507316\"><div class=\"_2cXD1uC4eaOih4-zkRgqjU\"><div class=\"TRuzXRRZHRqbqgLUCCco9\"><h1 class=\"_3cl937Zpn1ce8mDKd5kp7u\"><span class=\"fQMqQTGJTbIMxjQwZA2zk _1alzSpTqJzvSVUWqpx82d4\">ニルヴァーナ ロゴ巡る係争で和解</span></h1><span class=\"_2obRU_TgAxzHaYqOXrZYlv\"><span class=\"h4yLXygiSc5wwNlJOQEdz _1dr5aVDbNPF63JCS2bJhij _2M3AyDfFaeJl3Uo7lUPMAp\" style=\"width:30px;height:12px\">NEW</span></span></div></div></a>,\n",
       " <a class=\"yMWCYupQNdgppL-NV6sMi _3sAlKGsIBCxTUbNi86oSjt\" data-cl-params=\"_cl_vmodule:tpto;_cl_link:title;_cl_position:7;tpid:6507313;shcid:ddcaf06ea507aa14a885e4462a70a1a86a63a8b7;imgsize:s;cmt_num:126\" data-ual-gotocontent=\"true\" href=\"https://news.yahoo.co.jp/pickup/6507313\"><div class=\"_2cXD1uC4eaOih4-zkRgqjU\"><div class=\"TRuzXRRZHRqbqgLUCCco9\"><h1 class=\"_3cl937Zpn1ce8mDKd5kp7u\"><span class=\"fQMqQTGJTbIMxjQwZA2zk _1alzSpTqJzvSVUWqpx82d4\">3Aの藤浪晋太郎、今季初勝利</span></h1><span class=\"_2obRU_TgAxzHaYqOXrZYlv\"><span class=\"h4yLXygiSc5wwNlJOQEdz _1dr5aVDbNPF63JCS2bJhij _2M3AyDfFaeJl3Uo7lUPMAp\" style=\"width:30px;height:12px\">NEW</span></span></div></div></a>,\n",
       " <a class=\"yMWCYupQNdgppL-NV6sMi _3sAlKGsIBCxTUbNi86oSjt\" data-cl-params=\"_cl_vmodule:tpto;_cl_link:title;_cl_position:8;tpid:6507312;shcid:3eb49ece955da3be4fa61aa83178f5147da95d14;imgsize:s;cmt_num:293\" data-ual-gotocontent=\"true\" href=\"https://news.yahoo.co.jp/pickup/6507312\"><div class=\"_2cXD1uC4eaOih4-zkRgqjU\"><div class=\"TRuzXRRZHRqbqgLUCCco9\"><h1 class=\"_3cl937Zpn1ce8mDKd5kp7u\"><span class=\"fQMqQTGJTbIMxjQwZA2zk _1alzSpTqJzvSVUWqpx82d4\">豪快HRで話題 体重139キロの球児</span></h1><span class=\"_2obRU_TgAxzHaYqOXrZYlv\"><span class=\"h4yLXygiSc5wwNlJOQEdz _1dr5aVDbNPF63JCS2bJhij _2M3AyDfFaeJl3Uo7lUPMAp\" style=\"width:30px;height:12px\">NEW</span></span></div></div></a>,\n",
       " <a class=\"yMWCYupQNdgppL-NV6sMi _3sAlKGsIBCxTUbNi86oSjt\" data-cl-params=\"_cl_vmodule:tpto;_cl_link:title;_cl_position:9;imgsize:l;shcid:792e06890c7b6485063c3b8022c42a22b0b8da58\" href=\"https://news.yahoo.co.jp/articles/792e06890c7b6485063c3b8022c42a22b0b8da58/images/000\"><div class=\"_1EYwdR4JxrwgpIvWk7vO3f\"><h1 class=\"RS4h_eDWC6FIIyYMupWR0\"><span class=\"fQMqQTGJTbIMxjQwZA2zk _1alzSpTqJzvSVUWqpx82d4\">土砂崩れ現場</span></h1><p class=\"_2e8OreFgYIc3gdzYJLKAMA\"><time class=\"_1GD9Sx7FpCs4EuL3bT974r\">7/12(金) 12:07</time></p><div class=\"_1pfcRKnf6y-2AXzpXf0vrb\"><cite class=\"O9jggTRv0zy3XcPayfJLa\">読売新聞オンライン</cite></div><div class=\"_1UmUawjY6VSzmTK3Y-1sjq\"><span class=\"rStpk9W4eUO5IMVhnJylj\"><picture><source srcset=\"https://news-pctr.c.yimg.jp/t/news-topics/images/tpc/2024/7/12/1d72ceea906f02e33badeea2b941e16a6f0086b4da453996814308a638a715a0.jpg?h=200&amp;w=200&amp;pri=l&amp;fmt=webp\" type=\"image/webp\"/><img alt=\"\" height=\"90\" src=\"https://news-pctr.c.yimg.jp/t/news-topics/images/tpc/2024/7/12/1d72ceea906f02e33badeea2b941e16a6f0086b4da453996814308a638a715a0.jpg?h=200&amp;w=200&amp;pri=l\" width=\"64.25999999999999\"/></picture></span></div></div></a>,\n",
       " <a class=\"yMWCYupQNdgppL-NV6sMi _3sAlKGsIBCxTUbNi86oSjt\" data-cl-params=\"_cl_vmodule:tpto;_cl_link:more;_cl_position:0\" href=\"https://news.yahoo.co.jp/topics/top-picks\">もっと見る</a>,\n",
       " <a class=\"yMWCYupQNdgppL-NV6sMi _3sAlKGsIBCxTUbNi86oSjt\" data-cl-params=\"_cl_vmodule:tpto;_cl_link:list;_cl_position:0\" href=\"https://news.yahoo.co.jp/topics\">トピックス一覧</a>,\n",
       " <a class=\"yMWCYupQNdgppL-NV6sMi _3sAlKGsIBCxTUbNi86oSjt\" data-cl-params=\"_cl_link:comp;_cl_position:0\" href=\"https://www.lycorp.co.jp/ja/\">会社概要</a>,\n",
       " <a class=\"yMWCYupQNdgppL-NV6sMi _3sAlKGsIBCxTUbNi86oSjt\" data-cl-params=\"_cl_link:sus;_cl_position:0\" href=\"https://www.lycorp.co.jp/ja/sustainability/\">サステナビリティ</a>,\n",
       " <a class=\"yMWCYupQNdgppL-NV6sMi _3sAlKGsIBCxTUbNi86oSjt\" data-cl-params=\"_cl_link:ad;_cl_position:0\" href=\"https://www.lycbiz.com/jp/\">広告掲載について</a>,\n",
       " <a class=\"yMWCYupQNdgppL-NV6sMi _3sAlKGsIBCxTUbNi86oSjt\" data-cl-params=\"_cl_link:hr;_cl_position:0\" href=\"https://www.lycorp.co.jp/ja/recruit/\">採用情報</a>,\n",
       " <a class=\"yMWCYupQNdgppL-NV6sMi _3sAlKGsIBCxTUbNi86oSjt\" data-cl-params=\"_cl_link:agreement;_cl_position:0\" href=\"https://www.lycorp.co.jp/ja/company/terms/\">利用規約</a>,\n",
       " <a class=\"yMWCYupQNdgppL-NV6sMi _3sAlKGsIBCxTUbNi86oSjt\" data-cl-params=\"_cl_link:disc;_cl_position:0\" href=\"https://www.lycorp.co.jp/ja/company/disclaimer/\">免責事項</a>,\n",
       " <a class=\"yMWCYupQNdgppL-NV6sMi _3sAlKGsIBCxTUbNi86oSjt\" data-cl-params=\"_cl_link:state;_cl_position:0\" href=\"https://www.lycorp.co.jp/ja/company/mediastatement/\">メディアステートメント</a>,\n",
       " <a class=\"yMWCYupQNdgppL-NV6sMi _3sAlKGsIBCxTUbNi86oSjt\" data-cl-params=\"_cl_link:policy;_cl_position:0\" href=\"https://www.lycorp.co.jp/ja/company/privacypolicy/\">プライバシーポリシー</a>,\n",
       " <a class=\"yMWCYupQNdgppL-NV6sMi _3sAlKGsIBCxTUbNi86oSjt\" data-cl-params=\"_cl_link:center;_cl_position:0\" href=\"https://privacy.lycorp.co.jp/ja/\">プライバシーセンター</a>,\n",
       " <a class=\"yMWCYupQNdgppL-NV6sMi _3sAlKGsIBCxTUbNi86oSjt\" data-cl-params=\"_cl_link:ir;_cl_position:0\" href=\"https://www.lycorp.co.jp/ja/ir.html\">投資家情報</a>]"
      ]
     },
     "execution_count": 19,
     "metadata": {},
     "output_type": "execute_result"
    }
   ],
   "source": [
    "elems = soup.find_all(\"a\")\n",
    "elems"
   ]
  },
  {
   "cell_type": "code",
   "execution_count": 21,
   "metadata": {},
   "outputs": [
    {
     "data": {
      "text/plain": [
       "[<a class=\"yMWCYupQNdgppL-NV6sMi _3sAlKGsIBCxTUbNi86oSjt\" data-cl-params=\"_cl_vmodule:tpto;_cl_link:title;_cl_position:1;tpid:6507311;shcid:2cff5b8a4206b8d7dd149d41bc00e0b1fd1a0e45;imgsize:s;cmt_num:26\" data-ual-gotocontent=\"true\" href=\"https://news.yahoo.co.jp/pickup/6507311\"><div class=\"_2cXD1uC4eaOih4-zkRgqjU\"><div class=\"TRuzXRRZHRqbqgLUCCco9\"><h1 class=\"_3cl937Zpn1ce8mDKd5kp7u\"><span class=\"fQMqQTGJTbIMxjQwZA2zk _1alzSpTqJzvSVUWqpx82d4\">西-東日本3連休は雨 土砂災害警戒</span></h1></div></div></a>,\n",
       " <a class=\"yMWCYupQNdgppL-NV6sMi _3sAlKGsIBCxTUbNi86oSjt\" data-cl-params=\"_cl_vmodule:tpto;_cl_link:title;_cl_position:2;tpid:6507318;shcid:9f4d1ecd37cdbf8f8e2c8c8168ee8241c5b78002;imgsize:s;cmt_num:71\" data-ual-gotocontent=\"true\" href=\"https://news.yahoo.co.jp/pickup/6507318\"><div class=\"_2cXD1uC4eaOih4-zkRgqjU\"><div class=\"TRuzXRRZHRqbqgLUCCco9\"><h1 class=\"_3cl937Zpn1ce8mDKd5kp7u\"><span class=\"fQMqQTGJTbIMxjQwZA2zk _1alzSpTqJzvSVUWqpx82d4\">準強制性交罪 元地検検事正を起訴</span></h1><span class=\"_2obRU_TgAxzHaYqOXrZYlv\"><span class=\"h4yLXygiSc5wwNlJOQEdz _1dr5aVDbNPF63JCS2bJhij _2M3AyDfFaeJl3Uo7lUPMAp\" style=\"width:30px;height:12px\">NEW</span></span></div></div></a>,\n",
       " <a class=\"yMWCYupQNdgppL-NV6sMi _3sAlKGsIBCxTUbNi86oSjt\" data-cl-params=\"_cl_vmodule:tpto;_cl_link:title;_cl_position:3;tpid:6507307;shcid:12dab9176b33e405bd1ee0fe352581e37ce1238e;imgsize:s;cmt_num:2775\" data-ual-gotocontent=\"true\" href=\"https://news.yahoo.co.jp/pickup/6507307\"><div class=\"_2cXD1uC4eaOih4-zkRgqjU\"><div class=\"TRuzXRRZHRqbqgLUCCco9\"><h1 class=\"_3cl937Zpn1ce8mDKd5kp7u\"><span class=\"fQMqQTGJTbIMxjQwZA2zk _1alzSpTqJzvSVUWqpx82d4\">夏ボーナス 大手企業は平均98万円</span></h1></div></div></a>,\n",
       " <a class=\"yMWCYupQNdgppL-NV6sMi _3sAlKGsIBCxTUbNi86oSjt\" data-cl-params=\"_cl_vmodule:tpto;_cl_link:title;_cl_position:4;tpid:6507310;shcid:61274db1dddd493f23bffe084db68e3ae11bec15;imgsize:s;cmt_num:731\" data-ual-gotocontent=\"true\" href=\"https://news.yahoo.co.jp/pickup/6507310\"><div class=\"_2cXD1uC4eaOih4-zkRgqjU\"><div class=\"TRuzXRRZHRqbqgLUCCco9\"><h1 class=\"_3cl937Zpn1ce8mDKd5kp7u\"><span class=\"fQMqQTGJTbIMxjQwZA2zk _1alzSpTqJzvSVUWqpx82d4\">柔道訓練で女性巡査重体 頭強打か</span></h1></div></div></a>,\n",
       " <a class=\"yMWCYupQNdgppL-NV6sMi _3sAlKGsIBCxTUbNi86oSjt\" data-cl-params=\"_cl_vmodule:tpto;_cl_link:title;_cl_position:5;tpid:6507306;shcid:a35864004bc8ea2f7f1359b7863d5008bf6087fb;imgsize:s;cmt_num:1245\" data-ual-gotocontent=\"true\" href=\"https://news.yahoo.co.jp/pickup/6507306\"><div class=\"_2cXD1uC4eaOih4-zkRgqjU\"><div class=\"TRuzXRRZHRqbqgLUCCco9\"><h1 class=\"_3cl937Zpn1ce8mDKd5kp7u\"><span class=\"fQMqQTGJTbIMxjQwZA2zk _1alzSpTqJzvSVUWqpx82d4\">都知事選「Rシール」法的問題は</span></h1></div></div></a>,\n",
       " <a class=\"yMWCYupQNdgppL-NV6sMi _3sAlKGsIBCxTUbNi86oSjt\" data-cl-params=\"_cl_vmodule:tpto;_cl_link:title;_cl_position:6;tpid:6507316;shcid:0995009d0a43924c3611bbb7fa608623d2b8c51e;imgsize:s;cmt_num:15\" data-ual-gotocontent=\"true\" href=\"https://news.yahoo.co.jp/pickup/6507316\"><div class=\"_2cXD1uC4eaOih4-zkRgqjU\"><div class=\"TRuzXRRZHRqbqgLUCCco9\"><h1 class=\"_3cl937Zpn1ce8mDKd5kp7u\"><span class=\"fQMqQTGJTbIMxjQwZA2zk _1alzSpTqJzvSVUWqpx82d4\">ニルヴァーナ ロゴ巡る係争で和解</span></h1><span class=\"_2obRU_TgAxzHaYqOXrZYlv\"><span class=\"h4yLXygiSc5wwNlJOQEdz _1dr5aVDbNPF63JCS2bJhij _2M3AyDfFaeJl3Uo7lUPMAp\" style=\"width:30px;height:12px\">NEW</span></span></div></div></a>,\n",
       " <a class=\"yMWCYupQNdgppL-NV6sMi _3sAlKGsIBCxTUbNi86oSjt\" data-cl-params=\"_cl_vmodule:tpto;_cl_link:title;_cl_position:7;tpid:6507313;shcid:ddcaf06ea507aa14a885e4462a70a1a86a63a8b7;imgsize:s;cmt_num:126\" data-ual-gotocontent=\"true\" href=\"https://news.yahoo.co.jp/pickup/6507313\"><div class=\"_2cXD1uC4eaOih4-zkRgqjU\"><div class=\"TRuzXRRZHRqbqgLUCCco9\"><h1 class=\"_3cl937Zpn1ce8mDKd5kp7u\"><span class=\"fQMqQTGJTbIMxjQwZA2zk _1alzSpTqJzvSVUWqpx82d4\">3Aの藤浪晋太郎、今季初勝利</span></h1><span class=\"_2obRU_TgAxzHaYqOXrZYlv\"><span class=\"h4yLXygiSc5wwNlJOQEdz _1dr5aVDbNPF63JCS2bJhij _2M3AyDfFaeJl3Uo7lUPMAp\" style=\"width:30px;height:12px\">NEW</span></span></div></div></a>,\n",
       " <a class=\"yMWCYupQNdgppL-NV6sMi _3sAlKGsIBCxTUbNi86oSjt\" data-cl-params=\"_cl_vmodule:tpto;_cl_link:title;_cl_position:8;tpid:6507312;shcid:3eb49ece955da3be4fa61aa83178f5147da95d14;imgsize:s;cmt_num:293\" data-ual-gotocontent=\"true\" href=\"https://news.yahoo.co.jp/pickup/6507312\"><div class=\"_2cXD1uC4eaOih4-zkRgqjU\"><div class=\"TRuzXRRZHRqbqgLUCCco9\"><h1 class=\"_3cl937Zpn1ce8mDKd5kp7u\"><span class=\"fQMqQTGJTbIMxjQwZA2zk _1alzSpTqJzvSVUWqpx82d4\">豪快HRで話題 体重139キロの球児</span></h1><span class=\"_2obRU_TgAxzHaYqOXrZYlv\"><span class=\"h4yLXygiSc5wwNlJOQEdz _1dr5aVDbNPF63JCS2bJhij _2M3AyDfFaeJl3Uo7lUPMAp\" style=\"width:30px;height:12px\">NEW</span></span></div></div></a>]"
      ]
     },
     "execution_count": 21,
     "metadata": {},
     "output_type": "execute_result"
    }
   ],
   "source": [
    "elems = soup.find_all(href=re.compile(\"news.yahoo.co.jp/pickup\"))\n",
    "elems"
   ]
  },
  {
   "cell_type": "code",
   "execution_count": 27,
   "metadata": {},
   "outputs": [],
   "source": [
    "elems_titles = []\n",
    "elems_urls = []"
   ]
  },
  {
   "cell_type": "code",
   "execution_count": 28,
   "metadata": {},
   "outputs": [],
   "source": [
    "for title in elems:\n",
    "    elems_titles.append(title.get_text(strip=True))\n",
    "    elems_urls.append(title.attrs[\"href\"])"
   ]
  },
  {
   "cell_type": "code",
   "execution_count": 32,
   "metadata": {},
   "outputs": [
    {
     "name": "stdout",
     "output_type": "stream",
     "text": [
      "主要ニュースの記事のタイトルの数: 8\n",
      "主要ニュースの記事のタイトルの数: 8\n"
     ]
    }
   ],
   "source": [
    "    print(f\"主要ニュースの記事のタイトルの数: {len(elems_titles)}\")\n",
    "    print(f\"主要ニュースの記事のタイトルの数: {len(elems_urls)}\")"
   ]
  },
  {
   "cell_type": "code",
   "execution_count": 33,
   "metadata": {},
   "outputs": [
    {
     "name": "stdout",
     "output_type": "stream",
     "text": [
      "西-東日本3連休は雨 土砂災害警戒\n",
      "https://news.yahoo.co.jp/pickup/6507311\n",
      "\n",
      "準強制性交罪 元地検検事正を起訴NEW\n",
      "https://news.yahoo.co.jp/pickup/6507318\n",
      "\n",
      "夏ボーナス 大手企業は平均98万円\n",
      "https://news.yahoo.co.jp/pickup/6507307\n",
      "\n",
      "柔道訓練で女性巡査重体 頭強打か\n",
      "https://news.yahoo.co.jp/pickup/6507310\n",
      "\n",
      "都知事選「Rシール」法的問題は\n",
      "https://news.yahoo.co.jp/pickup/6507306\n",
      "\n",
      "ニルヴァーナ ロゴ巡る係争で和解NEW\n",
      "https://news.yahoo.co.jp/pickup/6507316\n",
      "\n",
      "3Aの藤浪晋太郎、今季初勝利NEW\n",
      "https://news.yahoo.co.jp/pickup/6507313\n",
      "\n",
      "豪快HRで話題 体重139キロの球児NEW\n",
      "https://news.yahoo.co.jp/pickup/6507312\n",
      "\n"
     ]
    }
   ],
   "source": [
    "for title, url in zip(elems_titles, elems_urls):\n",
    "    print(title)\n",
    "    print(url, end=\"\\n\\n\")"
   ]
  }
 ],
 "metadata": {
  "kernelspec": {
   "display_name": ".venv",
   "language": "python",
   "name": "python3"
  },
  "language_info": {
   "codemirror_mode": {
    "name": "ipython",
    "version": 3
   },
   "file_extension": ".py",
   "mimetype": "text/x-python",
   "name": "python",
   "nbconvert_exporter": "python",
   "pygments_lexer": "ipython3",
   "version": "3.10.12"
  }
 },
 "nbformat": 4,
 "nbformat_minor": 2
}
