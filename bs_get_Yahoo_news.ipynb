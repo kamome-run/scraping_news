{
 "cells": [
  {
   "cell_type": "code",
   "execution_count": 1,
   "metadata": {},
   "outputs": [],
   "source": [
    "import requests\n",
    "from bs4 import BeautifulSoup"
   ]
  },
  {
   "cell_type": "code",
   "execution_count": 2,
   "metadata": {},
   "outputs": [],
   "source": [
    "url = \"https://www.yahoo.co.jp/\""
   ]
  },
  {
   "cell_type": "code",
   "execution_count": 3,
   "metadata": {},
   "outputs": [],
   "source": [
    "res = requests.get(url)"
   ]
  },
  {
   "cell_type": "code",
   "execution_count": 4,
   "metadata": {},
   "outputs": [
    {
     "name": "stdout",
     "output_type": "stream",
     "text": [
      "URLをfetchすることに成功しました。\n"
     ]
    }
   ],
   "source": [
    "if res.status_code == 200:\n",
    "    print(\"URLをfetchすることに成功しました。\")\n",
    "else:\n",
    "    print(f\"URLをfetchすることに失敗しました。Status code: {res.status_code}\")"
   ]
  },
  {
   "cell_type": "code",
   "execution_count": 5,
   "metadata": {},
   "outputs": [],
   "source": [
    "soup = BeautifulSoup(res.text, \"html.parser\")"
   ]
  },
  {
   "cell_type": "code",
   "execution_count": 6,
   "metadata": {},
   "outputs": [
    {
     "name": "stdout",
     "output_type": "stream",
     "text": [
      "[<ul><li class=\"_2j0udhv5jERZtYzddeDwcv\"><article class=\"QLtbNZwO-lssuRUcWewbd\" data-ual=\"id_type:shannon_article;content_id:2cff5b8a4206b8d7dd149d41bc00e0b1fd1a0e45;element_id:first-main-topics-text\" data-ual-view-type=\"list\"><a class=\"yMWCYupQNdgppL-NV6sMi _3sAlKGsIBCxTUbNi86oSjt\" data-cl-params=\"_cl_vmodule:tpto;_cl_link:title;_cl_position:1;tpid:6507311;shcid:2cff5b8a4206b8d7dd149d41bc00e0b1fd1a0e45;imgsize:s;cmt_num:24\" data-ual-gotocontent=\"true\" href=\"https://news.yahoo.co.jp/pickup/6507311\"><div class=\"_2cXD1uC4eaOih4-zkRgqjU\"><div class=\"TRuzXRRZHRqbqgLUCCco9\"><h1 class=\"_3cl937Zpn1ce8mDKd5kp7u\"><span class=\"fQMqQTGJTbIMxjQwZA2zk _1alzSpTqJzvSVUWqpx82d4\">西-東日本3連休は雨 土砂災害警戒</span></h1></div></div></a></article></li><li class=\"_2j0udhv5jERZtYzddeDwcv\"><article class=\"QLtbNZwO-lssuRUcWewbd\" data-ual=\"id_type:shannon_article;content_id:9f4d1ecd37cdbf8f8e2c8c8168ee8241c5b78002;element_id:first-main-topics-text\" data-ual-view-type=\"list\"><a class=\"yMWCYupQNdgppL-NV6sMi _3sAlKGsIBCxTUbNi86oSjt\" data-cl-params=\"_cl_vmodule:tpto;_cl_link:title;_cl_position:2;tpid:6507318;shcid:9f4d1ecd37cdbf8f8e2c8c8168ee8241c5b78002;imgsize:s;cmt_num:53\" data-ual-gotocontent=\"true\" href=\"https://news.yahoo.co.jp/pickup/6507318\"><div class=\"_2cXD1uC4eaOih4-zkRgqjU\"><div class=\"TRuzXRRZHRqbqgLUCCco9\"><h1 class=\"_3cl937Zpn1ce8mDKd5kp7u\"><span class=\"fQMqQTGJTbIMxjQwZA2zk _1alzSpTqJzvSVUWqpx82d4\">準強制性交罪 元地検検事正を起訴</span></h1><span class=\"_2obRU_TgAxzHaYqOXrZYlv\"><span class=\"h4yLXygiSc5wwNlJOQEdz _1dr5aVDbNPF63JCS2bJhij _2M3AyDfFaeJl3Uo7lUPMAp\" style=\"width:30px;height:12px\">NEW</span></span></div></div></a></article></li><li class=\"_2j0udhv5jERZtYzddeDwcv\"><article class=\"QLtbNZwO-lssuRUcWewbd\" data-ual=\"id_type:shannon_article;content_id:12dab9176b33e405bd1ee0fe352581e37ce1238e;element_id:first-main-topics-text\" data-ual-view-type=\"list\"><a class=\"yMWCYupQNdgppL-NV6sMi _3sAlKGsIBCxTUbNi86oSjt\" data-cl-params=\"_cl_vmodule:tpto;_cl_link:title;_cl_position:3;tpid:6507307;shcid:12dab9176b33e405bd1ee0fe352581e37ce1238e;imgsize:s;cmt_num:2646\" data-ual-gotocontent=\"true\" href=\"https://news.yahoo.co.jp/pickup/6507307\"><div class=\"_2cXD1uC4eaOih4-zkRgqjU\"><div class=\"TRuzXRRZHRqbqgLUCCco9\"><h1 class=\"_3cl937Zpn1ce8mDKd5kp7u\"><span class=\"fQMqQTGJTbIMxjQwZA2zk _1alzSpTqJzvSVUWqpx82d4\">夏ボーナス 大手企業は平均98万円</span></h1></div></div></a></article></li><li class=\"_2j0udhv5jERZtYzddeDwcv\"><article class=\"QLtbNZwO-lssuRUcWewbd\" data-ual=\"id_type:shannon_article;content_id:61274db1dddd493f23bffe084db68e3ae11bec15;element_id:first-main-topics-text\" data-ual-view-type=\"list\"><a class=\"yMWCYupQNdgppL-NV6sMi _3sAlKGsIBCxTUbNi86oSjt\" data-cl-params=\"_cl_vmodule:tpto;_cl_link:title;_cl_position:4;tpid:6507310;shcid:61274db1dddd493f23bffe084db68e3ae11bec15;imgsize:s;cmt_num:675\" data-ual-gotocontent=\"true\" href=\"https://news.yahoo.co.jp/pickup/6507310\"><div class=\"_2cXD1uC4eaOih4-zkRgqjU\"><div class=\"TRuzXRRZHRqbqgLUCCco9\"><h1 class=\"_3cl937Zpn1ce8mDKd5kp7u\"><span class=\"fQMqQTGJTbIMxjQwZA2zk _1alzSpTqJzvSVUWqpx82d4\">柔道訓練で女性巡査重体 頭強打か</span></h1></div></div></a></article></li><li class=\"_2j0udhv5jERZtYzddeDwcv\"><article class=\"QLtbNZwO-lssuRUcWewbd\" data-ual=\"id_type:shannon_article;content_id:a35864004bc8ea2f7f1359b7863d5008bf6087fb;element_id:first-main-topics-text\" data-ual-view-type=\"list\"><a class=\"yMWCYupQNdgppL-NV6sMi _3sAlKGsIBCxTUbNi86oSjt\" data-cl-params=\"_cl_vmodule:tpto;_cl_link:title;_cl_position:5;tpid:6507306;shcid:a35864004bc8ea2f7f1359b7863d5008bf6087fb;imgsize:s;cmt_num:1175\" data-ual-gotocontent=\"true\" href=\"https://news.yahoo.co.jp/pickup/6507306\"><div class=\"_2cXD1uC4eaOih4-zkRgqjU\"><div class=\"TRuzXRRZHRqbqgLUCCco9\"><h1 class=\"_3cl937Zpn1ce8mDKd5kp7u\"><span class=\"fQMqQTGJTbIMxjQwZA2zk _1alzSpTqJzvSVUWqpx82d4\">都知事選「Rシール」法的問題は</span></h1></div></div></a></article></li><li class=\"_2j0udhv5jERZtYzddeDwcv\"><article class=\"QLtbNZwO-lssuRUcWewbd\" data-ual=\"id_type:shannon_article;content_id:0995009d0a43924c3611bbb7fa608623d2b8c51e;element_id:first-main-topics-text\" data-ual-view-type=\"list\"><a class=\"yMWCYupQNdgppL-NV6sMi _3sAlKGsIBCxTUbNi86oSjt\" data-cl-params=\"_cl_vmodule:tpto;_cl_link:title;_cl_position:6;tpid:6507316;shcid:0995009d0a43924c3611bbb7fa608623d2b8c51e;imgsize:s;cmt_num:1\" data-ual-gotocontent=\"true\" href=\"https://news.yahoo.co.jp/pickup/6507316\"><div class=\"_2cXD1uC4eaOih4-zkRgqjU\"><div class=\"TRuzXRRZHRqbqgLUCCco9\"><h1 class=\"_3cl937Zpn1ce8mDKd5kp7u\"><span class=\"fQMqQTGJTbIMxjQwZA2zk _1alzSpTqJzvSVUWqpx82d4\">ニルヴァーナ ロゴ巡る係争で和解</span></h1><span class=\"_2obRU_TgAxzHaYqOXrZYlv\"><span class=\"h4yLXygiSc5wwNlJOQEdz _1dr5aVDbNPF63JCS2bJhij _2M3AyDfFaeJl3Uo7lUPMAp\" style=\"width:30px;height:12px\">NEW</span></span></div></div></a></article></li><li class=\"_2j0udhv5jERZtYzddeDwcv\"><article class=\"QLtbNZwO-lssuRUcWewbd\" data-ual=\"id_type:shannon_article;content_id:ddcaf06ea507aa14a885e4462a70a1a86a63a8b7;element_id:first-main-topics-text\" data-ual-view-type=\"list\"><a class=\"yMWCYupQNdgppL-NV6sMi _3sAlKGsIBCxTUbNi86oSjt\" data-cl-params=\"_cl_vmodule:tpto;_cl_link:title;_cl_position:7;tpid:6507313;shcid:ddcaf06ea507aa14a885e4462a70a1a86a63a8b7;imgsize:s;cmt_num:108\" data-ual-gotocontent=\"true\" href=\"https://news.yahoo.co.jp/pickup/6507313\"><div class=\"_2cXD1uC4eaOih4-zkRgqjU\"><div class=\"TRuzXRRZHRqbqgLUCCco9\"><h1 class=\"_3cl937Zpn1ce8mDKd5kp7u\"><span class=\"fQMqQTGJTbIMxjQwZA2zk _1alzSpTqJzvSVUWqpx82d4\">3Aの藤浪晋太郎、今季初勝利</span></h1><span class=\"_2obRU_TgAxzHaYqOXrZYlv\"><span class=\"h4yLXygiSc5wwNlJOQEdz _1dr5aVDbNPF63JCS2bJhij _2M3AyDfFaeJl3Uo7lUPMAp\" style=\"width:30px;height:12px\">NEW</span></span></div></div></a></article></li><li class=\"_2j0udhv5jERZtYzddeDwcv\"><article class=\"QLtbNZwO-lssuRUcWewbd\" data-ual=\"id_type:shannon_article;content_id:3eb49ece955da3be4fa61aa83178f5147da95d14;element_id:first-main-topics-text\" data-ual-view-type=\"list\"><a class=\"yMWCYupQNdgppL-NV6sMi _3sAlKGsIBCxTUbNi86oSjt\" data-cl-params=\"_cl_vmodule:tpto;_cl_link:title;_cl_position:8;tpid:6507312;shcid:3eb49ece955da3be4fa61aa83178f5147da95d14;imgsize:s;cmt_num:264\" data-ual-gotocontent=\"true\" href=\"https://news.yahoo.co.jp/pickup/6507312\"><div class=\"_2cXD1uC4eaOih4-zkRgqjU\"><div class=\"TRuzXRRZHRqbqgLUCCco9\"><h1 class=\"_3cl937Zpn1ce8mDKd5kp7u\"><span class=\"fQMqQTGJTbIMxjQwZA2zk _1alzSpTqJzvSVUWqpx82d4\">豪快HRで話題 体重139キロの球児</span></h1><span class=\"_2obRU_TgAxzHaYqOXrZYlv\"><span class=\"h4yLXygiSc5wwNlJOQEdz _1dr5aVDbNPF63JCS2bJhij _2M3AyDfFaeJl3Uo7lUPMAp\" style=\"width:30px;height:12px\">NEW</span></span></div></div></a></article></li></ul>]\n"
     ]
    }
   ],
   "source": [
    "elems = soup.select(\"#tabpanelTopics1 > div > div._2jjSS8r_I9Zd6O9NFJtDN- > ul\")\n",
    "print(elems)"
   ]
  },
  {
   "cell_type": "code",
   "execution_count": 7,
   "metadata": {},
   "outputs": [],
   "source": [
    "span_elems = elems[0].find_all(\"span\", class_=\"fQMqQTGJTbIMxjQwZA2zk _1alzSpTqJzvSVUWqpx82d4\")"
   ]
  },
  {
   "cell_type": "code",
   "execution_count": 8,
   "metadata": {},
   "outputs": [],
   "source": [
    "a_urls = []"
   ]
  },
  {
   "cell_type": "code",
   "execution_count": 9,
   "metadata": {},
   "outputs": [],
   "source": [
    "a_tags = elems[0].find_all(\"a\")\n",
    "for a_url in a_tags:\n",
    "    a_urls.append(a_url.attrs[\"href\"])"
   ]
  },
  {
   "cell_type": "code",
   "execution_count": 10,
   "metadata": {},
   "outputs": [
    {
     "name": "stdout",
     "output_type": "stream",
     "text": [
      "取得したニュース記事のタイトルの数: 8\n",
      "取得したニュース記事のURLの数: 8\n"
     ]
    }
   ],
   "source": [
    "print(f\"取得したニュース記事のタイトルの数: {len(span_elems)}\")\n",
    "print(f\"取得したニュース記事のURLの数: {len(a_urls)}\")"
   ]
  },
  {
   "cell_type": "code",
   "execution_count": 11,
   "metadata": {},
   "outputs": [
    {
     "name": "stdout",
     "output_type": "stream",
     "text": [
      "西-東日本3連休は雨 土砂災害警戒\n",
      "https://news.yahoo.co.jp/pickup/6507311\n",
      "\n",
      "準強制性交罪 元地検検事正を起訴\n",
      "https://news.yahoo.co.jp/pickup/6507318\n",
      "\n",
      "夏ボーナス 大手企業は平均98万円\n",
      "https://news.yahoo.co.jp/pickup/6507307\n",
      "\n",
      "柔道訓練で女性巡査重体 頭強打か\n",
      "https://news.yahoo.co.jp/pickup/6507310\n",
      "\n",
      "都知事選「Rシール」法的問題は\n",
      "https://news.yahoo.co.jp/pickup/6507306\n",
      "\n",
      "ニルヴァーナ ロゴ巡る係争で和解\n",
      "https://news.yahoo.co.jp/pickup/6507316\n",
      "\n",
      "3Aの藤浪晋太郎、今季初勝利\n",
      "https://news.yahoo.co.jp/pickup/6507313\n",
      "\n",
      "豪快HRで話題 体重139キロの球児\n",
      "https://news.yahoo.co.jp/pickup/6507312\n",
      "\n"
     ]
    }
   ],
   "source": [
    "for title, url in zip(span_elems, a_urls):\n",
    "    print(title.get_text(strip=True))\n",
    "    print(url, end=\"\\n\\n\")"
   ]
  }
 ],
 "metadata": {
  "kernelspec": {
   "display_name": ".venv",
   "language": "python",
   "name": "python3"
  },
  "language_info": {
   "codemirror_mode": {
    "name": "ipython",
    "version": 3
   },
   "file_extension": ".py",
   "mimetype": "text/x-python",
   "name": "python",
   "nbconvert_exporter": "python",
   "pygments_lexer": "ipython3",
   "version": "3.10.12"
  }
 },
 "nbformat": 4,
 "nbformat_minor": 2
}
